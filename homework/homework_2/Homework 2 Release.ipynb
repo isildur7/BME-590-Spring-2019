{
 "cells": [
  {
   "cell_type": "markdown",
   "metadata": {},
   "source": [
    "# Classification of MNIST\n",
    "\n",
    "MNIST is a dataset consisting of handwritten numbers 0-9 widely used as a benchmark in machine learning. While the dataset is very simple, it is still in seminal papers to demonstrate proof of concept (i.e. [Dynamic Routing](https://arxiv.org/pdf/1710.09829.pdf)). Below we load some sample digits for you.\n",
    "\n",
    "Benchmark datasets are very useful, to note a couple other widely used benchmarks: [SVHN](http://ufldl.stanford.edu/housenumbers/) (Street View House Numbers), [Fashion MNIST](https://github.com/zalandoresearch/fashion-mnist) (Like MNIST, but more fashion), [CIFAR](https://www.cs.toronto.edu/~kriz/cifar.html) (10 and 100 different objects), and [ImageNet](http://www.image-net.org/) (very large real world image dataset).\n",
    "\n",
    "We load up a downsampled MNIST dataset below. MNIST is usually 28x28, we will work with 8x8 images."
   ]
  },
  {
   "cell_type": "code",
   "execution_count": 1,
   "metadata": {},
   "outputs": [
    {
     "data": {
      "image/png": "[encoded data removed]",
      "text/plain": [
       "<Figure size 432x288 with 10 Axes>"
      ]
     },
     "metadata": {
      "needs_background": "light"
     },
     "output_type": "display_data"
    }
   ],
   "source": [
    "# Import datasets\n",
    "\n",
    "%matplotlib inline\n",
    "\n",
    "from sklearn import datasets\n",
    "import matplotlib.pyplot as plt\n",
    "digits = datasets.load_digits()\n",
    "for index, (image, label) in enumerate(list(zip(digits.images, digits.target))[:10]):\n",
    "    plt.subplot(1, 10, index + 1)\n",
    "    plt.axis('off')\n",
    "    plt.imshow(image, cmap=plt.cm.gray_r)\n",
    "    plt.title('%i' % label)\n",
    "plt.show()"
   ]
  },
  {
   "cell_type": "markdown",
   "metadata": {},
   "source": [
    "# Part I\n",
    "\n",
    "You will classifiy two numbers of your choice. Start by extracting two features from the image. We suggest looking at intensity and symmetry using `sklearn.model_selection.train_test_split`, a convenient function which will save 10% of the data for testing. We split the dataset into training and test sets. Save your test set so we can evaluate how well you classify.\n",
    "\n",
    "`X_test` and `y_test` should be used to evaluate the performance of the classifier you build. Moving forward just work with `X_train` and `y_train`."
   ]
  },
  {
   "cell_type": "code",
   "execution_count": 2,
   "metadata": {},
   "outputs": [
    {
     "data": {
      "image/png": "[encoded data removed]",
      "text/plain": [
       "<Figure size 432x288 with 10 Axes>"
      ]
     },
     "metadata": {
      "needs_background": "light"
     },
     "output_type": "display_data"
    }
   ],
   "source": [
    "from sklearn.model_selection import train_test_split\n",
    "import numpy as np\n",
    "\n",
    "number_a = 0 # TODO choose your digit\n",
    "number_b = 3 # TODO choose your digit\n",
    "\n",
    "digit_a_indexes = np.where(digits.target==number_a) \n",
    "digit_b_indexes = np.where(digits.target==number_b)\n",
    "targets = np.concatenate((digits.target[digit_a_indexes], digits.target[digit_b_indexes]))\n",
    "images = np.concatenate((digits.images[digit_a_indexes], digits.images[digit_b_indexes]))\n",
    "X_train, X_test, y_train, y_test = train_test_split(images, targets, test_size=0.1, random_state=42)\n",
    "for index, image in enumerate(X_train[:10]):\n",
    "    plt.subplot(1, 10, index + 1)\n",
    "    plt.axis('off')\n",
    "    plt.imshow(image, cmap=plt.cm.gray_r)\n",
    "plt.show()"
   ]
  },
  {
   "cell_type": "markdown",
   "metadata": {},
   "source": [
    "# Feature Extraction\n",
    "\n",
    "You will create 2 feature extractors based on the numbers you choose. These will be two functions which take in an image and output a single float. For example, image intensity and symmetry can be used as a features."
   ]
  },
  {
   "cell_type": "code",
   "execution_count": 4,
   "metadata": {},
   "outputs": [],
   "source": [
    "def compute_features(vector):\n",
    "    image = vector.reshape(8, 8) # get back original image shape\n",
    "    def compute_feature_a(image):\n",
    "        '''compute_feature_a will compute ...'''\n",
    "\n",
    "        return np.random.rand(1)[0]\n",
    "\n",
    "    def compute_feature_b(image):\n",
    "        '''compute_feature_b will compute ...'''\n",
    "\n",
    "        return np.random.rand(1)[0]\n",
    "    \n",
    "    return compute_feature_a(image), compute_feature_b(image)"
   ]
  },
  {
   "cell_type": "markdown",
   "metadata": {},
   "source": [
    "Once you compute these two features, you can apply them to your images. Don't worry about the details of the first function below, all it does is map the `compute_features` function you wrote to each image in your `X_train` variable.\n",
    "\n",
    "Afterwards let us plot the features you've crafted to see if they can separate into two classes."
   ]
  },
  {
   "cell_type": "code",
   "execution_count": 5,
   "metadata": {},
   "outputs": [
    {
     "data": {
      "text/plain": [
       "(0.0004130481397246477, 0.9990335052253799)"
      ]
     },
     "execution_count": 5,
     "metadata": {},
     "output_type": "execute_result"
    },
    {
     "data": {
      "image/png": "[encoded data removed]",
      "text/plain": [
       "<Figure size 360x360 with 1 Axes>"
      ]
     },
     "metadata": {
      "needs_background": "light"
     },
     "output_type": "display_data"
    }
   ],
   "source": [
    "# Apply and plot your features\n",
    "\n",
    "X_features = np.apply_along_axis(compute_features, 1,\n",
    "                                 X_train.reshape(X_train.shape[0], X_train.shape[1]*X_train.shape[2]))\n",
    "\n",
    "X_features_a = X_features[np.where(y_train==number_a)]\n",
    "X_features_b = X_features[np.where(y_train==number_b)]\n",
    "\n",
    "plt.figure(figsize=(5,5))\n",
    "plt.plot(X_features_a[:, 0], X_features_a[:, 1], '.')\n",
    "plt.plot(X_features_b[:, 0], X_features_b[:, 1], '.')\n",
    "plt.xlabel('feature_a')\n",
    "plt.ylabel('feature_b')\n",
    "plt.ylim(X_features[:, 1].min(), X_features[:, 1].max()) "
   ]
  },
  {
   "cell_type": "markdown",
   "metadata": {},
   "source": [
    "# Linear Classification with Pseudo Inverse\n",
    "\n",
    "`X_features` is a 2 dimensional array of features and `y_train` is our ground truth label. Find the best plane that separates these two classes using the pseudo inverse and plot it. For this problem, we need to set `y=-1` for `number_a` and `y=1` for `number_b`.\n",
    "\n",
    "The loss $L$ we would like to minimize for each $i$ row in our matrix is.\n",
    "\n",
    "$$L  = \\frac{1}{2}\\Sigma (y^{(i)} - W^{T}x^{(i)})^{2}$$\n",
    "\n",
    "where\n",
    "\n",
    "$$x^{(i)} = \n",
    "\\begin{bmatrix}\n",
    "    feature_a \\\\\n",
    "    feature_b \\\\\n",
    "\\end{bmatrix}$$\n",
    "\n",
    "$$W = \n",
    "\\begin{bmatrix}\n",
    "    w_1 \\\\\n",
    "    w_2 \\\\\n",
    "\\end{bmatrix}$$\n",
    "\n",
    "\n",
    "In matrix form we convert $x^{(i)}$ into $X$ which is the number of examples we have, in our case is MNIST digit features extracted.\n",
    "\n",
    "$$X = \n",
    "\\begin{bmatrix}\n",
    "    feature_{a1} & feature_{b1} \\\\\n",
    "    feature_{a2} & feature_{b2} \\\\\n",
    "    ... & ... \\\\\n",
    "    feature_{ai} & feature_{bi} \\\\\n",
    "\\end{bmatrix}$$\n",
    "\n",
    "\n",
    "$$L  = \\frac{1}{2}( Y-XW )^{T} (Y-XW)$$\n"
   ]
  },
  {
   "cell_type": "markdown",
   "metadata": {},
   "source": [
    "### Explain\n",
    "\n",
    "Let's solve L analytically, set $\\frac{d}{dW}L = 0$ and solve. Show your steps."
   ]
  },
  {
   "cell_type": "markdown",
   "metadata": {},
   "source": [
    "Step 1: $$L  = \\frac{1}{2}( Y-XW )^{T} (Y-XW)$$\n",
    "\n",
    "Step 2: $$ \\frac{d}{dW}L  = \\frac{d}{dW} \\frac{1}{2}( Y-XW )^{T} (Y-XW)$$\n",
    "\n",
    "Step 3: $$...$$"
   ]
  },
  {
   "cell_type": "markdown",
   "metadata": {},
   "source": [
    "### Compute\n",
    "Going back to linear algebra, we can re-write the classification problem as $Xw = y^*$, as we did during class. Here, $X$ is our features matrix `X_features` that has the features of each data example along each row, $y^*$ is our `pseudo_y` vector, and $w$ is the unknown weights vector that we'd like to figure out.\n",
    "\n",
    "The pseudo inverse is $$(X^{T}X)^{-1}X^{T} = X^{+}$$\n",
    "\n",
    "Solving for $w$, $$w = X^{+}y^*$$\n",
    "\n",
    "To perform this computation: \n",
    "\n",
    "#### (a) create a features vector $X$ and compute its pseudo inverse. (This is the var `X_features`)\n",
    "\n",
    "#### (b) create a vector like $y^*$ to hold the labels. (Done below for you as `pseudo_y`)\n",
    "\n",
    "#### (c) find $w$"
   ]
  },
  {
   "cell_type": "code",
   "execution_count": null,
   "metadata": {},
   "outputs": [],
   "source": [
    "pseudo_y = np.copy(y_train)\n",
    "pseudo_y[y_train == number_a] = -1\n",
    "pseudo_y[y_train == number_b] = 1\n",
    "\n",
    "# Calculate x below\n",
    "# ...\n",
    "\n"
   ]
  },
  {
   "cell_type": "markdown",
   "metadata": {},
   "source": [
    "### (d) To examine the result of the least squares solution under this formulation, compute the train and test error using an appropriate threshold. Does your trained model generalize well to the test data? \n",
    "\n",
    "Create a function called `accuracy_metrics` which does this."
   ]
  },
  {
   "cell_type": "code",
   "execution_count": null,
   "metadata": {},
   "outputs": [],
   "source": [
    "def accuracy_metrics(features, label):\n",
    "    # features should be your X_features\n",
    "    # label should be the y^{i} label\n",
    "    \n",
    "    \n",
    "    return 0 # Return the % accuracy\n",
    "    "
   ]
  },
  {
   "cell_type": "markdown",
   "metadata": {},
   "source": [
    "### (e) Write a function that visualizes the decision boundary corresponding to your chosen threshold (you can either draw a line or shade the region above/below the threshold). \n",
    "\n",
    "The function `visualize_model` should take in features, labels, and your calculated weights. It should show a matplotlib figure."
   ]
  },
  {
   "cell_type": "code",
   "execution_count": 8,
   "metadata": {},
   "outputs": [],
   "source": [
    "def visualize_model(features, labels, weights):\n",
    "    return None"
   ]
  },
  {
   "cell_type": "code",
   "execution_count": null,
   "metadata": {},
   "outputs": [],
   "source": [
    "visualize_model(X_features, pseudo_y, x)"
   ]
  },
  {
   "cell_type": "markdown",
   "metadata": {},
   "source": [
    "### (f) Repeat the above steps after adding in a bias term, allowing for the classification line to not pass through the origin. You can do this by augmenting the X feature matrix with an additional feature column of ones, and making the unknown weight vector one entry longer -- does performance improve?\n",
    "\n",
    "If you created your functions correctly, you shouldn't need to change them and you only need to modify `X_features`. "
   ]
  },
  {
   "cell_type": "code",
   "execution_count": null,
   "metadata": {},
   "outputs": [],
   "source": [
    "# Find w and bias\n",
    "\n",
    "# Get the test and train accuracy of your model with bias\n",
    "\n",
    "# Visualize the model, you may need to change your code."
   ]
  },
  {
   "cell_type": "markdown",
   "metadata": {},
   "source": [
    "# Linear Classification with Finite Differences\n",
    "\n",
    "Rather than use pseudo inverse (analytically solving your optimization equation). Instead, initialize your parameter x to some random numbers. Move x some small epsilon amount in the each direction to compute the total change in your loss and calculate the gradient. Then update x by taking a small step in that gradient direction. You can execute this in a for loop for a set number of iterations, or until the gradient reaches some threshold value of not changing very much.\n",
    "\n",
    "1. Solve for x\n",
    "2. Get training and test accuracy every $n$ steps\n",
    "3. Plot the decision boundary every $n$ steps"
   ]
  },
  {
   "cell_type": "markdown",
   "metadata": {},
   "source": [
    "### Define a loss."
   ]
  },
  {
   "cell_type": "code",
   "execution_count": null,
   "metadata": {},
   "outputs": [],
   "source": [
    "def loss(features, labels, weights):\n",
    "    return np.inf"
   ]
  },
  {
   "cell_type": "markdown",
   "metadata": {},
   "source": [
    "### Now iteratively solve for your weights w"
   ]
  },
  {
   "cell_type": "code",
   "execution_count": null,
   "metadata": {},
   "outputs": [],
   "source": [
    "w = np.random.rand(2) # init weights to some random value.\n",
    "num_iterations = 0 # set this to the number of iterations\n",
    "delta = 1e-4 # This may need to be adjusted\n",
    "step_size = 1e-4\n",
    "for i in range(num_iterations):\n",
    "    # move x0 some delta and calculate derivative in x0 direction\n",
    "    # move x1 some delta and calculate derivative in x1 direction\n",
    "    # update x0 and x1 some step_size in the direction of steepest descent"
   ]
  },
  {
   "cell_type": "markdown",
   "metadata": {},
   "source": [
    "# Logistic Classification with Finite Differences\n",
    "\n",
    "Now, let's consider the same problem with a different loss function.\n",
    "\n",
    "$$L = \\frac{1}{N}\\sum_{i=1}^n ln(1 + e^{-y^{(i)}W^{T}x^{(i)}})$$\n",
    "\n",
    "Use finite differences to compute the gradient and iteratively calculate $W$\n",
    "\n",
    "1. Solve for x\n",
    "2. Get training and test accuracy every $n$ steps\n",
    "3. Plot the decision boundary every $n$ steps\n"
   ]
  },
  {
   "cell_type": "code",
   "execution_count": null,
   "metadata": {},
   "outputs": [],
   "source": [
    "logistic_y = np.copy(y_train)\n",
    "logistic_y[y_train == number_a] = 0\n",
    "logistic_y[y_train == number_b] = 1"
   ]
  },
  {
   "cell_type": "code",
   "execution_count": null,
   "metadata": {},
   "outputs": [],
   "source": [
    "def logistic_loss(features, labels, weights, x, y):\n",
    "    return np.inf"
   ]
  },
  {
   "cell_type": "markdown",
   "metadata": {},
   "source": [
    "# Part II\n",
    "\n",
    "Now let’s repeat the exercise above, but using a different set of features. Here, let’s assume that we have a camera that has just two pixels in it, which is taking pictures of the MNIST image dataset. One of these two pixels will detect the total intensity from the top half of each digit to form feature x_1, and the other pixel will detect the total intensity from the bottom half of each digit to form feature x_2. Please use these two top/bottom total intensities to form a new feature vector for each MNIST image that you’re using for classification, and repeat the exercise above to obtain a plot of classification performance and an average classification accuracy score. \n",
    "\n",
    "**Note that this classification score (in some sense) reflects what would be possible with a \"normal\" camera.**\n",
    "\n",
    " - Plot Points after feature generation\n",
    " - Linear Classification (Pseudo or Gradient method)\n",
    "   - test/train accuracy\n",
    " - Logistic Classification\n",
    "   - test/train accuracy"
   ]
  },
  {
   "cell_type": "code",
   "execution_count": null,
   "metadata": {},
   "outputs": [],
   "source": [
    "def compute_features(vector):\n",
    "    image = vector.reshape(8, 8) # get back original image shape\n",
    "    def compute_feature_a(image):\n",
    "        '''compute_feature_a will compute ...'''\n",
    "\n",
    "        return np.random.rand(1)[0]\n",
    "\n",
    "    def compute_feature_b(image):\n",
    "        '''compute_feature_b will compute ...'''\n",
    "\n",
    "        return np.random.rand(1)[0]\n",
    "    \n",
    "    return compute_feature_a(image), compute_feature_b(image)"
   ]
  },
  {
   "cell_type": "markdown",
   "metadata": {},
   "source": [
    "# Part III\n",
    "\n",
    "Finally, let’s assume that this camera has a special filter in its lens that blurs the MNIST image in a special way before it is detected. Let’s model this 2D blur as a convolution with the 3x3 filter below.\n",
    "\n",
    "$$X = \n",
    "\\begin{bmatrix}\n",
    "    -1 & 0 & 1 \\\\\n",
    "    -1 & 0 & 1 \\\\\n",
    "    -1 & 0 & 1 \\\\\n",
    "\\end{bmatrix}$$\n",
    "\n",
    "Convolve the set of MNIST images with this kernel before proceeding to compute the two features of interest as in Part I: the total image intensity, and the image symmetry. Repeat the exercise above to obtain a plot of classification performance and an average classification accuracy score.\n",
    "\n",
    "**Note that this classification score (in some sense) reflects what would be possible with a “computational” camera, which has a special aperture shape for enhanced image classification.**\n",
    "\n",
    " - Plot Points after feature generation\n",
    " - Linear Classification (Pseudo or Gradient method)\n",
    "   - test/train accuracy\n",
    " - Logistic Classification\n",
    "   - test/train accuracy"
   ]
  }
 ],
 "metadata": {
  "kernelspec": {
   "display_name": "Python 3",
   "language": "python",
   "name": "python3"
  },
  "language_info": {
   "codemirror_mode": {
    "name": "ipython",
    "version": 3
   },
   "file_extension": ".py",
   "mimetype": "text/x-python",
   "name": "python",
   "nbconvert_exporter": "python",
   "pygments_lexer": "ipython3",
   "version": "3.7.2"
  }
 },
 "nbformat": 4,
 "nbformat_minor": 2
}
