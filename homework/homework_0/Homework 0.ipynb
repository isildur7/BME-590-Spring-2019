{
 "cells": [
  {
   "cell_type": "markdown",
   "metadata": {},
   "source": [
    "# Introduction\n",
    "\n",
    "Demonstrate your skill of markdown  \n",
    "**[markdown cheat sheet](https://github.com/adam-p/markdown-here/wiki/Markdown-Cheatsheet)**\n"
   ]
  },
  {
   "cell_type": "markdown",
   "metadata": {},
   "source": [
    "### About me\n",
    "\n",
    "I am Amey Chaware (pronounce as a-may-yuh Cha-wa-rey). I am a first year masters student in the ECE department. My focus area is Signal Processing and Machine Learning. I come from a small town in central India, about 150 miles west of Nagpur. I am working with Professor Horstmeyer in his lab. I graduted from the College of Engineering, Pune in 2017 (which by the way is the third oldest engineering college in Asia - founded 1854). After graduating I worked at Embryyo Technologies, a medical devices start-up in Pune, before I came here in the fall. That's about it."
   ]
  },
  {
   "cell_type": "markdown",
   "metadata": {},
   "source": [
    "### My Hobbies Ranked\n",
    "\n",
    "1. Photography; although I should do it far more than I do currently...  (I am on instagram - @amey_chaware, please follow :P)\n",
    "2. Reading - fantasy, history, fiction/non-fiction anything is okay really\n",
    "3. Audio-visual stuff - Movies, certain TV shows, lots of YouTube\n",
    "4. Sports - mostly Football (soccer here, GGMU!), Formula 1 (die hard Ferrari) and of course Cricket"
   ]
  },
  {
   "cell_type": "markdown",
   "metadata": {},
   "source": [
    "```python\n",
    "def fibonacci(n):\n",
    "    # pseudo code printing the fibonacci sequence in markdown \n",
    "    return \n",
    "```\n",
    "```\n",
    "Algorithm:\n",
    "if n < 0:\n",
    "    print error\n",
    "else:\n",
    "    x := 0\n",
    "    y := 1\n",
    "    print x\n",
    "    while y < n:\n",
    "        print y\n",
    "        next := y + x\n",
    "        x := y\n",
    "        y := next\n",
    "```"
   ]
  },
  {
   "cell_type": "code",
   "execution_count": 7,
   "metadata": {},
   "outputs": [
    {
     "name": "stdout",
     "output_type": "stream",
     "text": [
      "0\n",
      "1\n",
      "1\n",
      "2\n",
      "3\n"
     ]
    }
   ],
   "source": [
    "# See if it works in python3 (doesn't have to)\n",
    "def fibonacci(n):\n",
    "    #code printing the fibonacci sequence\n",
    "    if n < 0:\n",
    "        print(\"Enter number greater than 0\")\n",
    "    else:\n",
    "        x = 0\n",
    "        y = 1\n",
    "        print (x)\n",
    "        while y < n:\n",
    "            print (y)\n",
    "            next = y + x\n",
    "            x = y\n",
    "            y = next\n",
    "    return\n",
    "fibonacci(4)"
   ]
  },
  {
   "cell_type": "markdown",
   "metadata": {},
   "source": [
    "# Link your favorite Youtube video\n",
    "\n",
    "<a href=\"https://youtu.be/ZbFM3rn4ldo\n",
    "\" target=\"_blank\"><img src=\"http://img.youtube.com/vi/ZbFM3rn4ldo/0.jpg\" \n",
    "alt=\"IMAGE ALT TEXT HERE\" width=\"240\" height=\"180\" border=\"10\" /></a>"
   ]
  },
  {
   "cell_type": "code",
   "execution_count": null,
   "metadata": {},
   "outputs": [],
   "source": []
  }
 ],
 "metadata": {
  "kernelspec": {
   "display_name": "Python 3",
   "language": "python",
   "name": "python3"
  },
  "language_info": {
   "codemirror_mode": {
    "name": "ipython",
    "version": 3
   },
   "file_extension": ".py",
   "mimetype": "text/x-python",
   "name": "python",
   "nbconvert_exporter": "python",
   "pygments_lexer": "ipython3",
   "version": "3.6.6"
  }
 },
 "nbformat": 4,
 "nbformat_minor": 2
}
