{
 "cells": [
  {
   "cell_type": "code",
   "execution_count": 1,
   "metadata": {},
   "outputs": [],
   "source": [
    "import tensorflow as tf\n",
    "import numpy as np\n",
    "from scipy.io import loadmat, savemat\n",
    "from sklearn.model_selection import train_test_split\n",
    "from matplotlib import pyplot as plt\n",
    "from time import time\n",
    "\n",
    "optimize = True\n",
    "LED = 123\n",
    "pixel_well_depth = 20000\n",
    "numchannel = 1\n",
    "batch_size = 32"
   ]
  },
  {
   "cell_type": "code",
   "execution_count": 2,
   "metadata": {},
   "outputs": [
    {
     "data": {
      "text/plain": [
       "(564, 28, 28, 123)"
      ]
     },
     "execution_count": 2,
     "metadata": {},
     "output_type": "execute_result"
    }
   ],
   "source": [
    "path = \"C:/Users/ameyc/Dropbox/Deep Learning Microscope Code/data/thick_smear/raw_data/images_infected_thicksmear_colorcombo.mat\"\n",
    "mal_dict = loadmat(path)\n",
    "infected = mal_dict['images_infected_thicksmear_colorcombo']\n",
    "path = \"C:/Users/ameyc/Dropbox/Deep Learning Microscope Code/data/thick_smear/raw_data/images_noinfection_thicksmear_colorcombo.mat\"\n",
    "wmal_dict = loadmat(path)\n",
    "normal = wmal_dict['images_noinfection_thicksmear_colorcombo']\n",
    "infected = np.moveaxis(infected, -1, 0)\n",
    "normal = np.moveaxis(normal, -1, 0)\n",
    "\n",
    "infected_train, infected_test = train_test_split(infected, test_size = 0.2)\n",
    "normal_train, normal_test = train_test_split(normal, test_size = 0.2)\n",
    "normal_train.shape"
   ]
  },
  {
   "cell_type": "code",
   "execution_count": 3,
   "metadata": {},
   "outputs": [],
   "source": [
    "def get_training_iterator(n = 0):\n",
    "    infected_dataset = tf.data.Dataset.from_tensor_slices(infected_test//(n+1))\n",
    "    normal_dataset = tf.data.Dataset.from_tensor_slices(normal_test//(n+1))\n",
    "    \n",
    "    if n > 0:\n",
    "        infected_dataset = infected_dataset.shuffle(n+1).repeat().batch(1)\n",
    "        normal_dataset1 = normal_dataset.shuffle(n+1).repeat().batch(n)\n",
    "        dataset1 = tf.data.Dataset.zip((infected_dataset, normal_dataset1))\n",
    "        dataset1 = dataset1.map(lambda x,y: (tf.cast(tf.reduce_sum(tf.concat([x, y], axis=0), axis=0), tf.uint8), [0,1]))\n",
    "        #dataset1 = dataset1.map(lambda x, n: np_add_noise(x, n))\n",
    "        dataset1 = dataset1.batch(16)\n",
    "    else:\n",
    "        dataset1 = infected_dataset.repeat().map(lambda x: (tf.cast(x, tf.uint8), [0,1]))\n",
    "        #dataset1 = dataset1.map(lambda x, n: np_add_noise(x, n))\n",
    "        dataset1 = dataset1.shuffle(17).batch(16)\n",
    "    \n",
    "    dataset0 = normal_dataset.shuffle(n+2).repeat().batch(n+1)\n",
    "    dataset0 = dataset0.map(lambda x: (tf.cast(tf.reduce_sum(x, axis=0), tf.uint8), [1,0]))\n",
    "    #dataset0 = dataset0.map(lambda x, y: np_add_noise(x, n))\n",
    "    dataset0 = dataset0.batch(16)\n",
    "    \n",
    "    iterator0 = dataset0.make_initializable_iterator()\n",
    "    iterator1 = dataset1.make_initializable_iterator()\n",
    "    \n",
    "    return iterator0, iterator1\n",
    "\n",
    "def get_testing_iterator(n = 0):\n",
    "    infected_dataset = tf.data.Dataset.from_tensor_slices(infected_test//(n+1))\n",
    "    normal_dataset = tf.data.Dataset.from_tensor_slices(normal_test//(n+1))\n",
    "    \n",
    "    if n > 0:\n",
    "        infected_dataset = infected_dataset.shuffle(n+1).repeat().batch(1)\n",
    "        normal_dataset1 = normal_dataset.shuffle(n+1).repeat().batch(n)\n",
    "        dataset1 = tf.data.Dataset.zip((infected_dataset, normal_dataset1))\n",
    "        dataset1 = dataset1.map(lambda x,y: (tf.cast(tf.reduce_sum(tf.concat([x, y], axis=0), axis=0), tf.uint8), [0,1]))\n",
    "        dataset1 = dataset1.batch(16)\n",
    "    else:\n",
    "        dataset1 = infected_dataset.repeat().map(lambda x: (tf.cast(x, tf.uint8), [0,1]))\n",
    "        dataset1 = dataset1.shuffle(17).batch(16)\n",
    "    \n",
    "    dataset0 = normal_dataset.shuffle(n+2).repeat().batch(n+1)\n",
    "    dataset0 = dataset0.map(lambda x: (tf.cast(tf.reduce_sum(x, axis=0), tf.uint8), [1,0]))\n",
    "    #dataset0 = dataset0.map(lambda x, n: np_add_noise(x, n))\n",
    "    dataset0 = dataset0.batch(16)\n",
    "    \n",
    "    iterator0 = dataset0.make_initializable_iterator()\n",
    "    iterator1 = dataset1.make_initializable_iterator()\n",
    "    \n",
    "    return iterator0, iterator1"
   ]
  },
  {
   "cell_type": "code",
   "execution_count": 4,
   "metadata": {},
   "outputs": [],
   "source": [
    "def add_noise(x):\n",
    "    noise = tf.random.normal(shape = tf.shape(x))\n",
    "    noise = noise*tf.math.sqrt(x*(1-1/(n+1)/numchannel)*256/pixel_well_depth)\n",
    "    x = tf.add(x, noise)\n",
    "    return x\n",
    "\n",
    "def np_add_noise(x, n, dtype=tf.float32):\n",
    "    def _np_add_noise(x, n):\n",
    "        x += np.random.normal(loc=0, scale=np.sqrt(x*(1-1/(n+1)/numchannel)*256/pixel_well_depth))\n",
    "        return x\n",
    "    \n",
    "    shape = tf.shape(x)\n",
    "    z = tf.py_func(_np_add_noise, [x, n], dtype)\n",
    "    z = tf.reshape(z, shape)\n",
    "    return z"
   ]
  },
  {
   "cell_type": "code",
   "execution_count": 5,
   "metadata": {},
   "outputs": [],
   "source": [
    "def get_batch(n, istrain):\n",
    "    if istrain == 0:\n",
    "        x0, y0 = train_it0.get_next()\n",
    "        x1, y1 = train_it1.get_next()\n",
    "        x = tf.cast(tf.concat([x0,x1], axis=0), tf.float32)\n",
    "        x = add_noise(x)\n",
    "        y = tf.concat([y0,y1], axis=0)\n",
    "    else:\n",
    "        x0, y0 = test_it0.get_next()\n",
    "        x1, y1 = test_it1.get_next()\n",
    "        x = tf.cast(tf.concat([x0,x1], axis=0), tf.float32)\n",
    "        x = add_noise(x)\n",
    "        y = tf.concat([y0,y1], axis=0)     \n",
    "    return x, y"
   ]
  },
  {
   "cell_type": "code",
   "execution_count": 6,
   "metadata": {},
   "outputs": [],
   "source": [
    "def pass_through_validation(sess, n = 0, numbatches = 50):\n",
    "    val = 0\n",
    "    for i in range(numbatches):\n",
    "        val += sess.run(accuracy, feed_dict = {train_place: 1})\n",
    "    return val/numbatches"
   ]
  },
  {
   "cell_type": "code",
   "execution_count": 7,
   "metadata": {},
   "outputs": [],
   "source": [
    "def CNN2(net,labels,numcategories=10):\n",
    "    net = tf.layers.conv2d(net, filters=32, kernel_size=3, padding='same', activation=tf.nn.relu)\n",
    "    net = tf.layers.conv2d(net, filters=32, kernel_size=3, strides=2, activation=tf.nn.relu)\n",
    "    net = tf.contrib.layers.layer_norm(net)\n",
    "    net = tf.layers.conv2d(net, filters=64, kernel_size=3, padding='same', activation=tf.nn.relu)\n",
    "    net = tf.layers.conv2d(net, filters=64, kernel_size=3, strides=2, activation=tf.nn.relu)\n",
    "    net = tf.contrib.layers.layer_norm(net)\n",
    "    net = tf.layers.Flatten()(net) #flatten for fc\n",
    "    net = tf.layers.dense(net,1024)\n",
    "    net = tf.contrib.layers.layer_norm(net)\n",
    "    net = tf.layers.dense(net,numcategories)\n",
    "    return net #return net to examine accuracy"
   ]
  },
  {
   "cell_type": "code",
   "execution_count": 8,
   "metadata": {},
   "outputs": [],
   "source": [
    "def optimize_illumination(images, weights):\n",
    "    x_added = tf.einsum('aij,jk->aik', images, weights)\n",
    "#     print('shape after einsum multiplication')\n",
    "#     print(x_added.get_shape())\n",
    "    x_added = tf.reshape(x_added, [-1,28,28,1])\n",
    "    return x_added"
   ]
  },
  {
   "cell_type": "code",
   "execution_count": null,
   "metadata": {},
   "outputs": [],
   "source": [
    "acc = list()\n",
    "weights = list()\n",
    "fulls = time()\n",
    "with tf.device('/device:GPU:0'):\n",
    "    for n in range(15):\n",
    "        tf.reset_default_graph() \n",
    "        sess = tf.Session()\n",
    "        train_it0, train_it1 = get_training_iterator(n)\n",
    "        test_it0, test_it1 = get_testing_iterator(n)\n",
    "        train_place = tf.placeholder(tf.int8)\n",
    "        images, label = get_batch(n, istrain=train_place)\n",
    "        if optimize:\n",
    "#             added_intensity_weights = np.zeros((LED, 1), dtype=np.float32)\n",
    "#             added_intensity_weights[0] = 1  #This is the center LED for red (second image)\n",
    "#             added_intensity_weights[41] = 1  #This is the center LED for green (second image)\n",
    "#             added_intensity_weights[82] = 1  #This is the center LED for blue (second image)\n",
    "            LED_w = tf.Variable(tf.truncated_normal(shape=[LED,1], stddev=0.1))#tf.constant(added_intensity_weights))\n",
    "            images = tf.reshape(images, [-1, 784, LED])\n",
    "            images = optimize_illumination(images, LED_w)\n",
    "        pred = CNN2(images, label, 2)\n",
    "        loss = tf.losses.softmax_cross_entropy(logits=pred, onehot_labels=label)\n",
    "        train_op = tf.train.AdamOptimizer(learning_rate=1e-4).minimize(loss)\n",
    "        prediction = tf.argmax(pred,1)\n",
    "        truth = tf.argmax(label,1)\n",
    "        accuracy = tf.reduce_mean(tf.to_float(tf.equal(prediction,truth)))\n",
    "\n",
    "        Accuracy = list()\n",
    "        epochweights = list()\n",
    "        for runs in range(10):\n",
    "            sess.run(tf.global_variables_initializer())\n",
    "            sess.run(train_it0.initializer)\n",
    "            sess.run(train_it1.initializer)\n",
    "            sess.run(test_it0.initializer)\n",
    "            sess.run(test_it1.initializer)\n",
    "            train_losses = list()\n",
    "            val_losses = list()\n",
    "            start=time()\n",
    "            for i in range(501):\n",
    "                _, tloss = sess.run([train_op, loss], feed_dict={train_place: 0})\n",
    "                train_losses.append(tloss)\n",
    "                if i%250==0:\n",
    "                    prediction = list()\n",
    "                    y_label = list()\n",
    "                    val_losses.append(pass_through_validation(sess, n, numbatches=20))\n",
    "                    print(\"iteration %d; batch classifier loss: %f; batch Validation accuracy: %f; Time passed in this loop: %.2f\" % \n",
    "                          (i,train_losses[-1],val_losses[-1],time()-start))\n",
    "            epochweights.append(sess.run(LED_w))\n",
    "            Accuracy.append(val_losses[-1])\n",
    "        acc.append(Accuracy)\n",
    "        weights.append(epochweights)\n",
    "        sess.close()\n",
    "fulle = time()"
   ]
  },
  {
   "cell_type": "code",
   "execution_count": 10,
   "metadata": {},
   "outputs": [
    {
     "data": {
      "text/plain": [
       "11350.117097616196"
      ]
     },
     "execution_count": 10,
     "metadata": {},
     "output_type": "execute_result"
    }
   ],
   "source": [
    "fulle - fulls"
   ]
  },
  {
   "cell_type": "code",
   "execution_count": 11,
   "metadata": {},
   "outputs": [
    {
     "data": {
      "text/plain": [
       "Text(0, 0.5, 'accuracy')"
      ]
     },
     "execution_count": 11,
     "metadata": {},
     "output_type": "execute_result"
    },
    {
     "data": {
      "image/png": "[encoded data removed]",
      "text/plain": [
       "<Figure size 720x576 with 1 Axes>"
      ]
     },
     "metadata": {
      "needs_background": "light"
     },
     "output_type": "display_data"
    }
   ],
   "source": [
    "std = np.std(acc, axis=1)\n",
    "mean = np.mean(acc, axis=1)\n",
    "plt.figure(figsize=(10,8))\n",
    "plt.errorbar(np.arange(1,16), mean, yerr=[std, std])\n",
    "plt.xlabel(\"# overlaps\")\n",
    "plt.ylabel(\"accuracy\")"
   ]
  },
  {
   "cell_type": "code",
   "execution_count": 12,
   "metadata": {},
   "outputs": [],
   "source": [
    "np.save(\"accopt.npy\",acc)\n",
    "np.save(\"weight.npy\",weights)"
   ]
  },
  {
   "cell_type": "code",
   "execution_count": null,
   "metadata": {},
   "outputs": [],
   "source": [
    "sess = tf.Session()\n",
    "train_it0, train_it1 = get_training_iterator(n=0)\n",
    "sess.run(tf.global_variables_initializer())\n",
    "sess.run(train_it0.initializer)\n",
    "sess.run(train_it1.initializer)\n",
    "images, label = get_batch(n=4, istrain=0)\n",
    "plt.imshow(sess.run(images)[19,:,:,0].astype(np.uint8))\n",
    "sess.close()"
   ]
  },
  {
   "cell_type": "code",
   "execution_count": 14,
   "metadata": {},
   "outputs": [
    {
     "data": {
      "text/plain": [
       "(15, 1, 123, 1)"
      ]
     },
     "execution_count": 14,
     "metadata": {},
     "output_type": "execute_result"
    }
   ],
   "source": [
    "np.array(weights).shape"
   ]
  },
  {
   "cell_type": "code",
   "execution_count": null,
   "metadata": {},
   "outputs": [],
   "source": []
  }
 ],
 "metadata": {
  "kernelspec": {
   "display_name": "Python 3",
   "language": "python",
   "name": "python3"
  },
  "language_info": {
   "codemirror_mode": {
    "name": "ipython",
    "version": 3
   },
   "file_extension": ".py",
   "mimetype": "text/x-python",
   "name": "python",
   "nbconvert_exporter": "python",
   "pygments_lexer": "ipython3",
   "version": "3.6.8"
  }
 },
 "nbformat": 4,
 "nbformat_minor": 2
}
