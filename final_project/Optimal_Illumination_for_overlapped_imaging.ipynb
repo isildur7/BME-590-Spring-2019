{
 "cells": [
  {
   "cell_type": "code",
   "execution_count": 1,
   "metadata": {},
   "outputs": [],
   "source": [
    "import tensorflow as tf\n",
    "import numpy as np\n",
    "from scipy.io import loadmat, savemat\n",
    "from sklearn.model_selection import train_test_split\n",
    "from matplotlib import pyplot as plt"
   ]
  },
  {
   "cell_type": "code",
   "execution_count": 2,
   "metadata": {},
   "outputs": [
    {
     "data": {
      "text/plain": [
       "(580, 28, 28, 3)"
      ]
     },
     "execution_count": 2,
     "metadata": {},
     "output_type": "execute_result"
    }
   ],
   "source": [
    "path = \"C:/Users/ameyc/Documents/deep-learning-microscopes/malaria/data/positive_cropped.mat\"\n",
    "mal_dict = loadmat(path)\n",
    "infected = mal_dict['stack']\n",
    "path = \"C:/Users/ameyc/Documents/deep-learning-microscopes/malaria/data/negative_cropped.mat\"\n",
    "wmal_dict = loadmat(path)\n",
    "normal = wmal_dict['stack']\n",
    "infected = np.moveaxis(infected, -1, 0)\n",
    "normal = np.moveaxis(normal, -1, 0)\n",
    "\n",
    "infected_train, infected_test = train_test_split(infected, test_size = 0.2)\n",
    "normal_train, normal_test = train_test_split(normal, test_size = 0.2)\n",
    "normal_train.shape"
   ]
  },
  {
   "cell_type": "code",
   "execution_count": 3,
   "metadata": {},
   "outputs": [],
   "source": [
    "def get_training_iterator(n = 0):\n",
    "    infected_dataset = tf.data.Dataset.from_tensor_slices(infected_train/(n+1))\n",
    "    normal_dataset = tf.data.Dataset.from_tensor_slices(normal_train/(n+1))\n",
    "    \n",
    "    if n > 0:\n",
    "        infected_dataset = infected_dataset.shuffle(n+1).repeat(10).batch(1)\n",
    "        normal_dataset1 = normal_dataset.shuffle(n+1).repeat(10).batch(n)\n",
    "        dataset1 = tf.data.Dataset.zip((infected_dataset, normal_dataset1))\n",
    "        dataset1 = dataset1.map(lambda x,y: (tf.reduce_sum(tf.concat([x, y], axis=0), axis=0), [0,1]))\n",
    "        dataset1 = dataset1.batch(16)\n",
    "    else:\n",
    "        dataset1 = infected_dataset.map(lambda x: (x, [0,1]))\n",
    "        dataset1 = dataset1.shuffle(17).batch(16)\n",
    "    \n",
    "    dataset0 = normal_dataset.shuffle(n+2).repeat(10).batch(n+1)\n",
    "    dataset0 = dataset0.map(lambda x: (tf.reduce_sum(x, axis=0), [1,0]))\n",
    "    dataset0 = dataset0.batch(16)\n",
    "    \n",
    "    iterator0 = dataset0.make_initializable_iterator()\n",
    "    iterator1 = dataset1.make_initializable_iterator()\n",
    "    \n",
    "    return iterator0, iterator1\n",
    "\n",
    "def get_testing_iterator(n = 0):\n",
    "    infected_dataset = tf.data.Dataset.from_tensor_slices(infected_test/(n+1))\n",
    "    normal_dataset = tf.data.Dataset.from_tensor_slices(normal_test/(n+1))\n",
    "    \n",
    "    if n > 0:\n",
    "        infected_dataset = infected_dataset.shuffle(n+1).repeat(10).batch(1)\n",
    "        normal_dataset1 = normal_dataset.shuffle(n+1).repeat(10).batch(n)\n",
    "        dataset1 = tf.data.Dataset.zip((infected_dataset, normal_dataset1))\n",
    "        dataset1 = dataset1.map(lambda x,y: (tf.reduce_sum(tf.concat([x, y], axis=0), axis=0), [0,1]))\n",
    "        dataset1 = dataset1.batch(16)\n",
    "    else:\n",
    "        dataset1 = infected_dataset.map(lambda x: (x, [0,1]))\n",
    "        dataset1 = dataset1.batch(16)\n",
    "    \n",
    "    dataset0 = normal_dataset.shuffle(n+2).repeat(10).batch(n+1)\n",
    "    if n > 0:\n",
    "        dataset0 = dataset0.map(lambda x: (tf.reduce_sum(x, axis=0), [1,0]))\n",
    "    else:\n",
    "        dataset0 = dataset0.map(lambda x: (x, [1,0]))\n",
    "    dataset0 = dataset0.shuffle(17).batch(16)\n",
    "    \n",
    "    iterator0 = dataset0.make_initializable_iterator()\n",
    "    iterator1 = dataset1.make_initializable_iterator()\n",
    "    \n",
    "    return iterator0, iterator1"
   ]
  },
  {
   "cell_type": "code",
   "execution_count": 4,
   "metadata": {},
   "outputs": [],
   "source": [
    "def get_batch(iter0, iter1):\n",
    "    x0, y0 = iter0.get_next()\n",
    "    x1, y1 = iter1.get_next()\n",
    "    x = tf.concat([x0,x1], axis=0)\n",
    "    y = tf.concat([y0,y1], axis=0)\n",
    "    return x, y"
   ]
  },
  {
   "cell_type": "code",
   "execution_count": 14,
   "metadata": {},
   "outputs": [
    {
     "name": "stdout",
     "output_type": "stream",
     "text": [
      "(?, 28, 28, 3)\n",
      "(?, 2)\n"
     ]
    }
   ],
   "source": [
    "images, label = get_batch()\n",
    "print(images.shape)\n",
    "print(label.shape)"
   ]
  },
  {
   "cell_type": "code",
   "execution_count": 50,
   "metadata": {},
   "outputs": [],
   "source": [
    "def CNN2(net,labels,numcategories=10):\n",
    "    net = tf.layers.conv2d(net, filters=32, kernel_size=3, padding='same', activation=tf.nn.relu)\n",
    "    net = tf.layers.conv2d(net, filters=32, kernel_size=3, strides=2, activation=tf.nn.relu)\n",
    "    net = tf.contrib.layers.layer_norm(net)\n",
    "    net = tf.layers.conv2d(net, filters=64, kernel_size=3, padding='same', activation=tf.nn.relu)\n",
    "    net = tf.layers.conv2d(net, filters=64, kernel_size=3, strides=2, activation=tf.nn.relu)\n",
    "    net = tf.contrib.layers.layer_norm(net)\n",
    "    net = tf.reshape(net, [batch_size, -1]) #flatten for fc\n",
    "    net = tf.layers.dense(net,1024)\n",
    "    net = tf.contrib.layers.layer_norm(net)\n",
    "    net = tf.layers.dense(net,numcategories)\n",
    "    loss = tf.losses.softmax_cross_entropy(logits=net,onehot_labels=labels)\n",
    "    return loss, net #return net to examine accuracy"
   ]
  },
  {
   "cell_type": "code",
   "execution_count": 51,
   "metadata": {},
   "outputs": [],
   "source": [
    "batch_size = 32\n",
    "loss, pred = CNN2(images, label, 2)\n",
    "train_op = tf.train.AdamOptimizer(learning_rate=1e-4).minimize(loss)\n",
    "prediction = tf.argmax(pred,-1) #returns the prediction\n",
    "truth = tf.argmax(y,-1)\n",
    "accuracy = tf.reduce_mean(tf.to_float(tf.equal(prediction,truth)))"
   ]
  },
  {
   "cell_type": "code",
   "execution_count": null,
   "metadata": {},
   "outputs": [],
   "source": [
    "train_it0, train_it1 = get_training_iterator()\n",
    "test_it0, test_it1 = get_testing_iterator()\n",
    "sess = tf.Session()\n",
    "sess.run(tf.global_variables_initializer())\n",
    "sess.run(iterator0.initializer)\n",
    "sess.run(iterator1.initializer)\n",
    "\n",
    "Accuracy = list()\n",
    "for runs in range (5):\n",
    "    train_losses = list()\n",
    "    val_losses = list()\n",
    "    start=time()\n",
    "    for i in range(251):\n",
    "        train_losses.append(sess.run(loss))\n",
    "        if i%50==0:\n",
    "            prediction = list()\n",
    "            y_label = list()\n",
    "            if superposition:\n",
    "                val_losses.append(pass_through_validation_superposition(rawdata, prediction, y_label, numbatches=100))\n",
    "            else:\n",
    "                val_losses.append(pass_through_validation(prediction))\n",
    "            print(i,train_losses[-1],val_losses[-1],time()-start)\n",
    "    Accuracy.append(val_losses[-1])\n",
    "mean = sum(Accuracy)/5\n",
    "meanacc.append(mean)\n",
    "mean"
   ]
  },
  {
   "cell_type": "code",
   "execution_count": 13,
   "metadata": {},
   "outputs": [
    {
     "data": {
      "text/plain": [
       "<matplotlib.image.AxesImage at 0x202aaf6e518>"
      ]
     },
     "execution_count": 13,
     "metadata": {},
     "output_type": "execute_result"
    },
    {
     "data": {
      "image/png": "[encoded data removed]",
      "text/plain": [
       "<Figure size 432x288 with 1 Axes>"
      ]
     },
     "metadata": {
      "needs_background": "light"
     },
     "output_type": "display_data"
    }
   ],
   "source": [
    "plt.imshow(sess.run(images)[16].astype(np.uint8))"
   ]
  },
  {
   "cell_type": "code",
   "execution_count": null,
   "metadata": {},
   "outputs": [],
   "source": []
  }
 ],
 "metadata": {
  "kernelspec": {
   "display_name": "Python 3",
   "language": "python",
   "name": "python3"
  },
  "language_info": {
   "codemirror_mode": {
    "name": "ipython",
    "version": 3
   },
   "file_extension": ".py",
   "mimetype": "text/x-python",
   "name": "python",
   "nbconvert_exporter": "python",
   "pygments_lexer": "ipython3",
   "version": "3.6.8"
  }
 },
 "nbformat": 4,
 "nbformat_minor": 2
}
